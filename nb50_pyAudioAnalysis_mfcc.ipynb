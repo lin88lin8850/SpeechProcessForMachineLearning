{
 "cells": [
  {
   "cell_type": "code",
   "execution_count": 1,
   "metadata": {},
   "outputs": [],
   "source": [
    "import numpy\n",
    "import matplotlib.pyplot as plt\n",
    "%matplotlib inline"
   ]
  },
  {
   "cell_type": "code",
   "execution_count": 2,
   "metadata": {},
   "outputs": [],
   "source": [
    "# filter bank params:\n",
    "lowfreq = 133.33\n",
    "linsc = 200/3.\n",
    "logsc = 1.0711703\n",
    "numLinFiltTotal = 13\n",
    "numLogFilt = 27"
   ]
  },
  {
   "cell_type": "code",
   "execution_count": 3,
   "metadata": {},
   "outputs": [
    {
     "data": {
      "text/plain": [
       "40"
      ]
     },
     "execution_count": 3,
     "metadata": {},
     "output_type": "execute_result"
    }
   ],
   "source": [
    "# Total number of filters\n",
    "nFiltTotal = numLinFiltTotal + numLogFilt # 40\n",
    "nFiltTotal"
   ]
  },
  {
   "cell_type": "code",
   "execution_count": 4,
   "metadata": {},
   "outputs": [
    {
     "name": "stdout",
     "output_type": "stream",
     "text": [
      "[133.33       199.99666667 266.66333333 333.33       399.99666667\n",
      " 466.66333333 533.33       599.99666667 666.66333333 733.33\n",
      " 799.99666667 866.66333333 933.33         0.           0.\n",
      "   0.           0.           0.           0.           0.\n",
      "   0.           0.           0.           0.           0.\n",
      "   0.           0.           0.           0.           0.\n",
      "   0.           0.           0.           0.           0.\n",
      "   0.           0.           0.           0.           0.\n",
      "   0.           0.        ]\n",
      "[ 133.33        199.99666667  266.66333333  333.33        399.99666667\n",
      "  466.66333333  533.33        599.99666667  666.66333333  733.33\n",
      "  799.99666667  866.66333333  933.33        999.7553761  1070.90826614\n",
      " 1147.12512872 1228.76636826 1316.21803932 1409.89367205 1510.23622766\n",
      " 1617.72019305 1732.8538245  1856.18155105 1988.28654889 2129.79349906\n",
      " 2281.37154133 2443.73743834 2617.65896495 2803.95853878 3003.51710917\n",
      " 3217.27832289 3446.25298631 3691.52384522 3954.25070474 4235.67591367\n",
      " 4537.13023915 4860.03915941 5205.9296044  5576.43717612 5973.31388288\n",
      " 6398.43642392 6853.81506374]\n"
     ]
    }
   ],
   "source": [
    "# Compute frequency points of the triangle:\n",
    "freqs = numpy.zeros(nFiltTotal+2) #80\n",
    "\n",
    "freqs[:numLinFiltTotal] = lowfreq + numpy.arange(numLinFiltTotal) * linsc #42\n",
    "print(freqs) \n",
    "\n",
    "freqs[numLinFiltTotal:] = freqs[numLinFiltTotal-1] * logsc ** numpy.arange(1, numLogFilt + 3)\n",
    "print(freqs)\n",
    "\n",
    "heights = 2./(freqs[2:] - freqs[0:-2])\n",
    "# print(heights)"
   ]
  },
  {
   "cell_type": "code",
   "execution_count": 7,
   "metadata": {},
   "outputs": [
    {
     "name": "stdout",
     "output_type": "stream",
     "text": [
      "(40, 257)\n",
      "[0.         0.         0.         0.0120241  0.00396812 0.\n",
      " 0.         0.         0.         0.         0.         0.\n",
      " 0.         0.         0.         0.         0.         0.\n",
      " 0.         0.         0.         0.         0.         0.\n",
      " 0.         0.         0.         0.         0.         0.\n",
      " 0.         0.         0.         0.         0.         0.\n",
      " 0.         0.         0.         0.         0.         0.\n",
      " 0.         0.         0.         0.         0.         0.\n",
      " 0.         0.         0.         0.         0.         0.\n",
      " 0.         0.         0.         0.         0.         0.\n",
      " 0.         0.         0.         0.         0.         0.\n",
      " 0.         0.         0.         0.         0.         0.\n",
      " 0.         0.         0.         0.         0.         0.\n",
      " 0.         0.         0.         0.         0.         0.\n",
      " 0.         0.         0.         0.         0.         0.\n",
      " 0.         0.         0.         0.         0.         0.\n",
      " 0.         0.         0.         0.         0.         0.\n",
      " 0.         0.         0.         0.         0.         0.\n",
      " 0.         0.         0.         0.         0.         0.\n",
      " 0.         0.         0.         0.         0.         0.\n",
      " 0.         0.         0.         0.         0.         0.\n",
      " 0.         0.         0.         0.         0.         0.\n",
      " 0.         0.         0.         0.         0.         0.\n",
      " 0.         0.         0.         0.         0.         0.\n",
      " 0.         0.         0.         0.         0.         0.\n",
      " 0.         0.         0.         0.         0.         0.\n",
      " 0.         0.         0.         0.         0.         0.\n",
      " 0.         0.         0.         0.         0.         0.\n",
      " 0.         0.         0.         0.         0.         0.\n",
      " 0.         0.         0.         0.         0.         0.\n",
      " 0.         0.         0.         0.         0.         0.\n",
      " 0.         0.         0.         0.         0.         0.\n",
      " 0.         0.         0.         0.         0.         0.\n",
      " 0.         0.         0.         0.         0.         0.\n",
      " 0.         0.         0.         0.         0.         0.\n",
      " 0.         0.         0.         0.         0.         0.\n",
      " 0.         0.         0.         0.         0.         0.\n",
      " 0.         0.         0.         0.         0.         0.\n",
      " 0.         0.         0.         0.         0.         0.\n",
      " 0.         0.         0.         0.         0.         0.\n",
      " 0.         0.         0.         0.         0.         0.\n",
      " 0.         0.         0.         0.         0.         0.\n",
      " 0.         0.         0.         0.         0.        ]\n"
     ]
    }
   ],
   "source": [
    "fs = 16000\n",
    "nfft = 257 #信号经过FFT后的大小 = n_fft /2 + 1 (n_fft = 512)\n",
    "\n",
    "nfreqs = numpy.arange(nfft) / (1. * nfft) * fs\n",
    "\n",
    "# Compute filterbank coeff (in fft domain, in bins)\n",
    "fbank = numpy.zeros((nFiltTotal, nfft)) #(40, 257)\n",
    "print(fbank.shape)\n",
    "\n",
    "for i in range(nFiltTotal):\n",
    "    lowTrFreq = freqs[i]\n",
    "    cenTrFreq = freqs[i+1]\n",
    "    highTrFreq = freqs[i+2]\n",
    "\n",
    "    lid = numpy.arange(numpy.floor(lowTrFreq * nfft / fs) + 1, \n",
    "                       numpy.floor(cenTrFreq * nfft / fs) + 1,  \n",
    "                                   dtype=numpy.int)\n",
    "    lslope = heights[i] / (cenTrFreq - lowTrFreq)\n",
    "    rid = numpy.arange(numpy.floor(cenTrFreq * nfft / fs) + 1, \n",
    "                                   numpy.floor(highTrFreq * nfft / fs) + 1, \n",
    "                                   dtype=numpy.int)\n",
    "    rslope = heights[i] / (highTrFreq - cenTrFreq)\n",
    "    fbank[i][lid] = lslope * (nfreqs[lid] - lowTrFreq)\n",
    "    fbank[i][rid] = rslope * (highTrFreq - nfreqs[rid])\n",
    "    \n",
    "    print(fbank[i])\n",
    "    break"
   ]
  }
 ],
 "metadata": {
  "kernelspec": {
   "display_name": "Python 3",
   "language": "python",
   "name": "python3"
  },
  "language_info": {
   "codemirror_mode": {
    "name": "ipython",
    "version": 3
   },
   "file_extension": ".py",
   "mimetype": "text/x-python",
   "name": "python",
   "nbconvert_exporter": "python",
   "pygments_lexer": "ipython3",
   "version": "3.7.4"
  }
 },
 "nbformat": 4,
 "nbformat_minor": 2
}
